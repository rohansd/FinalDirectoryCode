{
 "cells": [
  {
   "cell_type": "code",
   "execution_count": 9,
   "id": "0dfb682c-c3ec-44de-92c9-dd929699733a",
   "metadata": {},
   "outputs": [
    {
     "ename": "SyntaxError",
     "evalue": "invalid syntax (<ipython-input-9-d49df44a0fcf>, line 1)",
     "output_type": "error",
     "traceback": [
      "\u001b[0;36m  File \u001b[0;32m\"<ipython-input-9-d49df44a0fcf>\"\u001b[0;36m, line \u001b[0;32m1\u001b[0m\n\u001b[0;31m    python /home/0/15214329/mmdetection3d/tools/misc/browse_dataset.py configs/_base_/datasets/kitti-3d-3class.py --task det --output-dir /home/0/15214329/mmdetection3d/results --online\u001b[0m\n\u001b[0m                                                                             ^\u001b[0m\n\u001b[0;31mSyntaxError\u001b[0m\u001b[0;31m:\u001b[0m invalid syntax\n"
     ]
    }
   ],
   "source": [
    "python /home/0/15214329/mmdetection3d/tools/misc/browse_dataset.py configs/_base_/datasets/kitti-3d-3class.py --task det --output-dir /home/0/15214329/mmdetection3d/results --online"
   ]
  },
  {
   "cell_type": "code",
   "execution_count": null,
   "id": "d7104f9f-8876-4349-8559-84701578af54",
   "metadata": {},
   "outputs": [],
   "source": []
  },
  {
   "cell_type": "code",
   "execution_count": null,
   "id": "2a658fa0-1b33-42b4-8a15-335283156b74",
   "metadata": {},
   "outputs": [],
   "source": []
  },
  {
   "cell_type": "code",
   "execution_count": null,
   "id": "bfdff713-c5f2-42ff-9ab3-d46de1a1eb48",
   "metadata": {},
   "outputs": [],
   "source": []
  },
  {
   "cell_type": "code",
   "execution_count": null,
   "id": "8ba6a157-7f25-4bef-b74c-e204c0b458c2",
   "metadata": {},
   "outputs": [],
   "source": []
  },
  {
   "cell_type": "code",
   "execution_count": null,
   "id": "7b55769b-b53d-4305-ae72-f964d3b8a4bc",
   "metadata": {},
   "outputs": [],
   "source": []
  }
 ],
 "metadata": {
  "kernelspec": {
   "display_name": "Python 3",
   "language": "python",
   "name": "python3"
  },
  "language_info": {
   "codemirror_mode": {
    "name": "ipython",
    "version": 3
   },
   "file_extension": ".py",
   "mimetype": "text/x-python",
   "name": "python",
   "nbconvert_exporter": "python",
   "pygments_lexer": "ipython3",
   "version": "3.7.0"
  }
 },
 "nbformat": 4,
 "nbformat_minor": 5
}
